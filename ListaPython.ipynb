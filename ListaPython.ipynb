{
  "nbformat": 4,
  "nbformat_minor": 0,
  "metadata": {
    "colab": {
      "provenance": [],
      "authorship_tag": "ABX9TyNNYQQfUHRhBCdiIoGhMqHg",
      "include_colab_link": true
    },
    "kernelspec": {
      "name": "python3",
      "display_name": "Python 3"
    },
    "language_info": {
      "name": "python"
    }
  },
  "cells": [
    {
      "cell_type": "markdown",
      "metadata": {
        "id": "view-in-github",
        "colab_type": "text"
      },
      "source": [
        "<a href=\"https://colab.research.google.com/github/matheusDEPAUL4/matheusDEPAUL4/blob/main/ListaPython.ipynb\" target=\"_parent\"><img src=\"https://colab.research.google.com/assets/colab-badge.svg\" alt=\"Open In Colab\"/></a>"
      ]
    },
    {
      "cell_type": "code",
      "execution_count": 2,
      "metadata": {
        "colab": {
          "base_uri": "https://localhost:8080/"
        },
        "id": "drnaosrbQ8fj",
        "outputId": "556c2ecd-51c2-4243-cb08-aa647c1f9e09"
      },
      "outputs": [
        {
          "output_type": "stream",
          "name": "stdout",
          "text": [
            "Nº 1: 5\n",
            "Nº 2: 9\n",
            "14.0\n"
          ]
        }
      ],
      "source": [
        "numero = float(input(\"Nº 1: \"))\n",
        "numero2 = float(input(\"Nº 2: \"))\n",
        "soma = numero + numero2\n",
        "\n",
        "print(soma)"
      ]
    }
  ]
}